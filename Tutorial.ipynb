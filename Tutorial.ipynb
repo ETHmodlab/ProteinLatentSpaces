{
 "cells": [
  {
   "cell_type": "markdown",
   "metadata": {},
   "source": [
    "# Basic Tutorial for using the Pipeline"
   ]
  },
  {
   "cell_type": "markdown",
   "metadata": {},
   "source": [
    "Get the package code"
   ]
  },
  {
   "cell_type": "code",
   "execution_count": null,
   "metadata": {},
   "outputs": [],
   "source": [
    "import sys\n",
    "sys.path.append(\"./pipeline\")\n",
    "import pipeline"
   ]
  },
  {
   "cell_type": "markdown",
   "metadata": {},
   "source": [
    "## 1. Prepare your data"
   ]
  },
  {
   "cell_type": "markdown",
   "metadata": {},
   "source": [
    "* Replace the files in `data/latent` with your latent embeddings named `latent_dict_<model_id>.pt`\n",
    "* The `.pt` files must contain dictionaries where each entry corresponds to a protein structure with key `<protein_target_id>_<pdb_id>` and the latent space embedding of the structure as value\n",
    "* Replace the numbers in `gnn_model_names` in `pipeline/dataset/preparation/generate_proteins_table.py` with your model ids\n",
    "\n",
    "Run `pipeline/dataset/preparation/generate_proteins_table.py` to scrape the auxiliary protein data for your dataset:"
   ]
  },
  {
   "cell_type": "code",
   "execution_count": null,
   "metadata": {
    "vscode": {
     "languageId": "shellscript"
    }
   },
   "outputs": [],
   "source": [
    "!python3 pipeline/dataset/preparation/generate_proteins_table.py"
   ]
  },
  {
   "cell_type": "markdown",
   "metadata": {},
   "source": [
    "Set the ID of the model you want to investigate and the size of the input latent vectors"
   ]
  },
  {
   "cell_type": "code",
   "execution_count": null,
   "metadata": {},
   "outputs": [],
   "source": [
    "model_id = 170\n",
    "latent_dim = 512"
   ]
  },
  {
   "cell_type": "markdown",
   "metadata": {},
   "source": [
    "Get the UniProt and ligand annotations for your dataset"
   ]
  },
  {
   "cell_type": "code",
   "execution_count": null,
   "metadata": {},
   "outputs": [],
   "source": [
    "anns_df = pipeline.create_anns_dataframe(model_id)\n",
    "anns_df.to_csv('data/annotations/annotations.csv')"
   ]
  },
  {
   "cell_type": "markdown",
   "metadata": {},
   "source": [
    "## (1a. Determine the optimal latent dimension [optional])"
   ]
  },
  {
   "cell_type": "markdown",
   "metadata": {},
   "source": [
    "Run the elbow analysis and determine the optimal number of components visually"
   ]
  },
  {
   "cell_type": "code",
   "execution_count": null,
   "metadata": {},
   "outputs": [],
   "source": [
    "from scripts.elbow_analysis import elbow_analysis\n",
    "\n",
    "elbow_analysis(model_id, latent_dim)"
   ]
  },
  {
   "cell_type": "markdown",
   "metadata": {},
   "source": [
    "## (1b. Retrain the autoencoder [optional])"
   ]
  },
  {
   "cell_type": "markdown",
   "metadata": {},
   "source": [
    "* Modify `train_range`and `val_range` in `pipeline/train.py` according to the model_ids of your models\n",
    "* Run the training script "
   ]
  },
  {
   "cell_type": "code",
   "execution_count": null,
   "metadata": {
    "vscode": {
     "languageId": "shellscript"
    }
   },
   "outputs": [],
   "source": [
    "!python3 pipeline/train.py"
   ]
  },
  {
   "cell_type": "markdown",
   "metadata": {},
   "source": [
    "## 2. Modify your base config file"
   ]
  },
  {
   "cell_type": "markdown",
   "metadata": {},
   "source": [
    "Modify the default hyperparameters in `base.yaml` such that they fit your dataset and use case"
   ]
  },
  {
   "cell_type": "markdown",
   "metadata": {},
   "source": [
    "## 3. Run the pipeline"
   ]
  },
  {
   "cell_type": "markdown",
   "metadata": {},
   "source": [
    "Override any hyperparameters in your base config by adding `++<hyperparameter>=<value>` to the command below.\n",
    "You need to set reload_families=true for the first run on your dataset to create the family dictionary."
   ]
  },
  {
   "cell_type": "code",
   "execution_count": null,
   "metadata": {
    "vscode": {
     "languageId": "shellscript"
    }
   },
   "outputs": [],
   "source": [
    "!python3 pipeline/run_pipeline.py ++model_id=$model_id ++base_dir=$(pwd) ++reload_families=true ++clustering.agglomerative.n_clusters=[7,8,9,10]"
   ]
  }
 ],
 "metadata": {
  "kernelspec": {
   "display_name": "penv_test",
   "language": "python",
   "name": "python3"
  },
  "language_info": {
   "codemirror_mode": {
    "name": "ipython",
    "version": 3
   },
   "file_extension": ".py",
   "mimetype": "text/x-python",
   "name": "python",
   "nbconvert_exporter": "python",
   "pygments_lexer": "ipython3",
   "version": "3.8.13"
  }
 },
 "nbformat": 4,
 "nbformat_minor": 2
}
